{
  "nbformat": 4,
  "nbformat_minor": 0,
  "metadata": {
    "colab": {
      "provenance": [],
      "authorship_tag": "ABX9TyPYGHM+6JAlWauuDPC8Lp8c",
      "include_colab_link": true
    },
    "kernelspec": {
      "name": "python3",
      "display_name": "Python 3"
    },
    "language_info": {
      "name": "python"
    }
  },
  "cells": [
    {
      "cell_type": "markdown",
      "metadata": {
        "id": "view-in-github",
        "colab_type": "text"
      },
      "source": [
        "<a href=\"https://colab.research.google.com/github/kirans93/dk/blob/master/DAY1_037.ipynb\" target=\"_parent\"><img src=\"https://colab.research.google.com/assets/colab-badge.svg\" alt=\"Open In Colab\"/></a>"
      ]
    },
    {
      "cell_type": "code",
      "source": [],
      "metadata": {
        "id": "eNKMmX98Gisg"
      },
      "execution_count": null,
      "outputs": []
    },
    {
      "cell_type": "code",
      "source": [
        "import tensorflow as tf\n",
        "from tensorflow import keras\n",
        "from tensorflow.keras import layers\n",
        "from tensorflow.keras.preprocessing.image import ImageDataGenerator\n",
        "\n",
        "# DEfine image size and batch size\n",
        "IMG_SIZE=325\n",
        "BATCH_SIZE=32\n"
      ],
      "metadata": {
        "id": "8Hkma-bSHzh_"
      },
      "execution_count": null,
      "outputs": []
    },
    {
      "cell_type": "code",
      "source": [
        "from google.colab import drive\n",
        "drive.mount('/content/drive')"
      ],
      "metadata": {
        "id": "tHr8xfVbMdbT"
      },
      "execution_count": null,
      "outputs": []
    },
    {
      "cell_type": "code",
      "source": [
        "train_datagen = ImageDataGenerator(rescale=1./255,validation_split=0.2) # Correct the typo here\n",
        "\n",
        "train_generator = train_datagen.flow_from_directory(\n",
        "   '/content/drive/MyDrive/Covid19-dataset',\n",
        "    target_size=(IMG_SIZE,IMG_SIZE),\n",
        "    batch_size=BATCH_SIZE,\n",
        "    class_mode='binary',\n",
        "    subset='training'\n",
        ")\n",
        "validation_generator = train_datagen.flow_from_directory(\n",
        "    '/content/drive/MyDrive/Covid19-dataset',\n",
        "    target_size=(IMG_SIZE,IMG_SIZE),\n",
        "    batch_size=BATCH_SIZE,\n",
        "    class_mode='binary',\n",
        "    subset='validation'\n",
        ")"
      ],
      "metadata": {
        "colab": {
          "base_uri": "https://localhost:8080/"
        },
        "id": "hsW_bZa3R_OA",
        "outputId": "18a59a95-1fbf-4b40-8fd6-4628e479a3f6"
      },
      "execution_count": null,
      "outputs": [
        {
          "output_type": "stream",
          "name": "stdout",
          "text": [
            "Found 254 images belonging to 2 classes.\n",
            "Found 63 images belonging to 2 classes.\n"
          ]
        }
      ]
    },
    {
      "cell_type": "code",
      "source": [
        "# Define the model\n",
        "model = keras.Sequential([\n",
        "    layers.Conv2D(32, (3,3),activation='relu',input_shape=(IMG_SIZE,IMG_SIZE,3)),\n",
        "    layers.MaxPooling2D(2,2),\n",
        "    layers.Conv2D(64,(3,3),activation='relu'),\n",
        "    layers.MaxPooling2D(2,2),\n",
        "    layers.Conv2D(128,(3,3),activation='relu'),\n",
        "    layers.MaxPooling2D(2,2),\n",
        "    layers.Flatten(),\n",
        "    layers.Dense(128,activation='relu'),\n",
        "    layers.Dense(1,activation='sigmoid') #output layer\n",
        "])\n"
      ],
      "metadata": {
        "id": "-TkfmmReS2L0"
      },
      "execution_count": null,
      "outputs": []
    },
    {
      "source": [
        "model.compile(optimizer='adam', loss='binary_crossentropy', metrics=['accuracy'])"
      ],
      "cell_type": "code",
      "metadata": {
        "id": "KAxwU0w2TuNa"
      },
      "execution_count": null,
      "outputs": []
    },
    {
      "source": [
        "model.fit(train_generator, validation_data=validation_generator, epochs=5) # Use 'validation_generator'"
      ],
      "cell_type": "code",
      "metadata": {
        "colab": {
          "base_uri": "https://localhost:8080/"
        },
        "id": "-lcTHM7Vk-iH",
        "outputId": "dde8f6c7-88be-4e02-d2ab-4146462d9573"
      },
      "execution_count": null,
      "outputs": [
        {
          "output_type": "stream",
          "name": "stdout",
          "text": [
            "Epoch 1/5\n",
            "8/8 [==============================] - 142s 17s/step - loss: 2.0471 - accuracy: 0.7047 - val_loss: 0.5219 - val_accuracy: 0.7937\n",
            "Epoch 2/5\n",
            "8/8 [==============================] - 71s 9s/step - loss: 0.4833 - accuracy: 0.7953 - val_loss: 0.6300 - val_accuracy: 0.7302\n",
            "Epoch 3/5\n",
            "8/8 [==============================] - 69s 8s/step - loss: 0.4725 - accuracy: 0.7638 - val_loss: 0.5981 - val_accuracy: 0.7937\n",
            "Epoch 4/5\n",
            "8/8 [==============================] - 69s 8s/step - loss: 0.3751 - accuracy: 0.8346 - val_loss: 0.7135 - val_accuracy: 0.7937\n",
            "Epoch 5/5\n",
            "8/8 [==============================] - 67s 8s/step - loss: 0.3240 - accuracy: 0.8425 - val_loss: 0.7729 - val_accuracy: 0.7937\n"
          ]
        },
        {
          "output_type": "execute_result",
          "data": {
            "text/plain": [
              "<keras.src.callbacks.History at 0x792bf3459bd0>"
            ]
          },
          "metadata": {},
          "execution_count": 8
        }
      ]
    },
    {
      "cell_type": "code",
      "source": [
        "model.save('model.h5')"
      ],
      "metadata": {
        "colab": {
          "base_uri": "https://localhost:8080/"
        },
        "id": "lbxh8L6msmU8",
        "outputId": "194d4371-2477-4544-e268-473e81db417e"
      },
      "execution_count": null,
      "outputs": [
        {
          "output_type": "stream",
          "name": "stderr",
          "text": [
            "/usr/local/lib/python3.10/dist-packages/keras/src/engine/training.py:3103: UserWarning: You are saving your model as an HDF5 file via `model.save()`. This file format is considered legacy. We recommend using instead the native Keras format, e.g. `model.save('my_model.keras')`.\n",
            "  saving_api.save_model(\n"
          ]
        }
      ]
    },
    {
      "cell_type": "code",
      "source": [
        "from tensorflow.keras.models import load_model\n",
        "from tensorflow.keras.preprocessing import image\n",
        "import numpy as np\n",
        "\n",
        "model = load_model('model.h5')\n",
        "test_image_path = '/content/drive/MyDrive/Covid19-dataset/train/Covid/012.jpeg'\n",
        "img = image.load_img(test_image_path, target_size=(325, 325)) # Change target size to 325x325 to match the model's input layer\n",
        "img_array = image.img_to_array(img)\n",
        "img_array = np.expand_dims(img_array, axis=0)\n",
        "\n",
        "img_array = img_array / 255.0\n",
        "\n",
        "predictions = model.predict(img_array)\n",
        "print(predictions)"
      ],
      "metadata": {
        "colab": {
          "base_uri": "https://localhost:8080/"
        },
        "id": "28xIcBkFv5hC",
        "outputId": "7c6a7325-58f3-4d6d-adfa-b393f1564494"
      },
      "execution_count": null,
      "outputs": [
        {
          "output_type": "stream",
          "name": "stdout",
          "text": [
            "1/1 [==============================] - 0s 158ms/step\n",
            "[[0.99943167]]\n"
          ]
        }
      ]
    },
    {
      "cell_type": "code",
      "source": [
        "if predictions < 0.5:\n",
        "      print('It is a Normal')\n",
        "else:\n",
        "      print('It is a viral phneumonia')"
      ],
      "metadata": {
        "colab": {
          "base_uri": "https://localhost:8080/"
        },
        "id": "B9Nc3-E59sXe",
        "outputId": "7333902c-bbb3-49de-bf92-0421447ddb5e"
      },
      "execution_count": null,
      "outputs": [
        {
          "output_type": "stream",
          "name": "stdout",
          "text": [
            "It is a viral phneumonia\n"
          ]
        }
      ]
    }
  ]
}